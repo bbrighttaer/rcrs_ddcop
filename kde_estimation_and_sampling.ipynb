{
 "cells": [
  {
   "cell_type": "code",
   "execution_count": 1,
   "id": "e8307290",
   "metadata": {},
   "outputs": [],
   "source": [
    "import ImbalancedLearningRegression as iblr\n",
    "import pandas as pd\n",
    "import numpy as np\n",
    "import seaborn as sns\n",
    "import matplotlib.pyplot as plt\n",
    "import smogn"
   ]
  },
  {
   "cell_type": "code",
   "execution_count": 155,
   "id": "36f82e64",
   "metadata": {},
   "outputs": [],
   "source": [
    "data = pd.read_csv('FireBrigadeAgent_1102153632_training_data_original.csv')"
   ]
  },
  {
   "cell_type": "code",
   "execution_count": 156,
   "id": "5a6aacf7",
   "metadata": {},
   "outputs": [
    {
     "data": {
      "text/plain": [
       "(86, 12)"
      ]
     },
     "execution_count": 156,
     "metadata": {},
     "output_type": "execute_result"
    }
   ],
   "source": [
    "data.shape"
   ]
  },
  {
   "cell_type": "code",
   "execution_count": 157,
   "id": "b2064472",
   "metadata": {},
   "outputs": [
    {
     "data": {
      "text/html": [
       "<div>\n",
       "<style scoped>\n",
       "    .dataframe tbody tr th:only-of-type {\n",
       "        vertical-align: middle;\n",
       "    }\n",
       "\n",
       "    .dataframe tbody tr th {\n",
       "        vertical-align: top;\n",
       "    }\n",
       "\n",
       "    .dataframe thead th {\n",
       "        text-align: right;\n",
       "    }\n",
       "</style>\n",
       "<table border=\"1\" class=\"dataframe\">\n",
       "  <thead>\n",
       "    <tr style=\"text-align: right;\">\n",
       "      <th></th>\n",
       "      <th>fieryness_x</th>\n",
       "      <th>temperature_x</th>\n",
       "      <th>brokenness_x</th>\n",
       "      <th>building_code_x</th>\n",
       "      <th>fire_index_x</th>\n",
       "      <th>extinguished_x</th>\n",
       "      <th>fieryness_y</th>\n",
       "      <th>temperature_y</th>\n",
       "      <th>brokenness_y</th>\n",
       "      <th>building_code_y</th>\n",
       "      <th>fire_index_y</th>\n",
       "      <th>extinguished_y</th>\n",
       "    </tr>\n",
       "  </thead>\n",
       "  <tbody>\n",
       "    <tr>\n",
       "      <th>0</th>\n",
       "      <td>2.0</td>\n",
       "      <td>478.0</td>\n",
       "      <td>0.0</td>\n",
       "      <td>0.0</td>\n",
       "      <td>0.0</td>\n",
       "      <td>1.0</td>\n",
       "      <td>0.0</td>\n",
       "      <td>0.0</td>\n",
       "      <td>0.0</td>\n",
       "      <td>0.0</td>\n",
       "      <td>0.0</td>\n",
       "      <td>0.0</td>\n",
       "    </tr>\n",
       "    <tr>\n",
       "      <th>1</th>\n",
       "      <td>0.0</td>\n",
       "      <td>35.0</td>\n",
       "      <td>0.0</td>\n",
       "      <td>0.0</td>\n",
       "      <td>0.0</td>\n",
       "      <td>0.0</td>\n",
       "      <td>1.0</td>\n",
       "      <td>646.0</td>\n",
       "      <td>0.0</td>\n",
       "      <td>0.0</td>\n",
       "      <td>0.0</td>\n",
       "      <td>0.0</td>\n",
       "    </tr>\n",
       "    <tr>\n",
       "      <th>2</th>\n",
       "      <td>1.0</td>\n",
       "      <td>264.0</td>\n",
       "      <td>0.0</td>\n",
       "      <td>0.0</td>\n",
       "      <td>387.0</td>\n",
       "      <td>0.0</td>\n",
       "      <td>3.0</td>\n",
       "      <td>686.0</td>\n",
       "      <td>0.0</td>\n",
       "      <td>0.0</td>\n",
       "      <td>387.0</td>\n",
       "      <td>0.0</td>\n",
       "    </tr>\n",
       "    <tr>\n",
       "      <th>3</th>\n",
       "      <td>0.0</td>\n",
       "      <td>43.0</td>\n",
       "      <td>68.0</td>\n",
       "      <td>0.0</td>\n",
       "      <td>0.0</td>\n",
       "      <td>0.0</td>\n",
       "      <td>1.0</td>\n",
       "      <td>54.0</td>\n",
       "      <td>68.0</td>\n",
       "      <td>0.0</td>\n",
       "      <td>0.0</td>\n",
       "      <td>0.0</td>\n",
       "    </tr>\n",
       "    <tr>\n",
       "      <th>4</th>\n",
       "      <td>0.0</td>\n",
       "      <td>0.0</td>\n",
       "      <td>41.0</td>\n",
       "      <td>0.0</td>\n",
       "      <td>0.0</td>\n",
       "      <td>0.0</td>\n",
       "      <td>1.0</td>\n",
       "      <td>184.0</td>\n",
       "      <td>41.0</td>\n",
       "      <td>0.0</td>\n",
       "      <td>0.0</td>\n",
       "      <td>0.0</td>\n",
       "    </tr>\n",
       "  </tbody>\n",
       "</table>\n",
       "</div>"
      ],
      "text/plain": [
       "   fieryness_x  temperature_x  brokenness_x  building_code_x  fire_index_x  \\\n",
       "0          2.0          478.0           0.0              0.0           0.0   \n",
       "1          0.0           35.0           0.0              0.0           0.0   \n",
       "2          1.0          264.0           0.0              0.0         387.0   \n",
       "3          0.0           43.0          68.0              0.0           0.0   \n",
       "4          0.0            0.0          41.0              0.0           0.0   \n",
       "\n",
       "   extinguished_x  fieryness_y  temperature_y  brokenness_y  building_code_y  \\\n",
       "0             1.0          0.0            0.0           0.0              0.0   \n",
       "1             0.0          1.0          646.0           0.0              0.0   \n",
       "2             0.0          3.0          686.0           0.0              0.0   \n",
       "3             0.0          1.0           54.0          68.0              0.0   \n",
       "4             0.0          1.0          184.0          41.0              0.0   \n",
       "\n",
       "   fire_index_y  extinguished_y  \n",
       "0           0.0             0.0  \n",
       "1           0.0             0.0  \n",
       "2         387.0             0.0  \n",
       "3           0.0             0.0  \n",
       "4           0.0             0.0  "
      ]
     },
     "execution_count": 157,
     "metadata": {},
     "output_type": "execute_result"
    }
   ],
   "source": [
    "data.head()"
   ]
  },
  {
   "cell_type": "code",
   "execution_count": 158,
   "id": "3fa19147",
   "metadata": {},
   "outputs": [
    {
     "data": {
      "text/plain": [
       "array([2., 0., 1., 3.])"
      ]
     },
     "execution_count": 158,
     "metadata": {},
     "output_type": "execute_result"
    }
   ],
   "source": [
    "data['fieryness_x'].unique()"
   ]
  },
  {
   "cell_type": "code",
   "execution_count": 159,
   "id": "68226922",
   "metadata": {},
   "outputs": [
    {
     "name": "stderr",
     "output_type": "stream",
     "text": [
      "dist_matrix: 100%|#################################################################################| 29/29 [00:00<00:00, 300.24it/s]\n",
      "r_index: 100%|#####################################################################################| 14/14 [00:00<00:00, 727.12it/s]\n"
     ]
    }
   ],
   "source": [
    "# rg_mtrx = [\n",
    "#     [0, 0, 0],  ## under-sample\n",
    "#     [1, 1, 0],  ## over-sample\n",
    "#     [2, 1, 0],  ## over-sample\n",
    "#     [3, 1, 0],  ## over-sample\n",
    "#     [4, 0.5, 0],  ## under-sample\n",
    "#     [5, 0.5, 0],  ## under-sample\n",
    "#     [6, 0.5, 0],  ## under-sample\n",
    "#     [7, 0.2, 0],  ## under-sample\n",
    "#     [8, 0.2, 0],  ## under-sample\n",
    "# ]\n",
    "rg_mtrx = [\n",
    "        [0, 0, 0],  ## under-sample\n",
    "        [1, 1, 0],  ## over-sample\n",
    "        [2, 1, 0],  ## over-sample\n",
    "        [3, 1, 0],  ## over-sample\n",
    "        [4, 0, 0],  ## under-sample\n",
    "        [5, 0, 0],  ## under-sample\n",
    "        [6, 0, 0],  ## under-sample\n",
    "        [7, 0, 0],  ## under-sample\n",
    "        [8, 0, 0],  ## under-sample\n",
    "    ]\n",
    "data_smogn=smogn.smoter(data=data,y='fieryness_x', rel_thres=0.5, rel_method='manual',rel_ctrl_pts_rg=rg_mtrx)"
   ]
  },
  {
   "cell_type": "code",
   "execution_count": 160,
   "id": "3b154a60",
   "metadata": {},
   "outputs": [
    {
     "data": {
      "text/plain": [
       "<matplotlib.legend.Legend at 0x7fc950ad35e0>"
      ]
     },
     "execution_count": 160,
     "metadata": {},
     "output_type": "execute_result"
    },
    {
     "data": {
      "image/png": "[encoded data removed]",
      "text/plain": [
       "<Figure size 432x288 with 1 Axes>"
      ]
     },
     "metadata": {
      "needs_background": "light"
     },
     "output_type": "display_data"
    }
   ],
   "source": [
    "data_smogn = data_smogn.reset_index()\n",
    "sns.kdeplot(data['fieryness_x'], label='original')\n",
    "sns.kdeplot(data_smogn['fieryness_x'], label='modified')\n",
    "plt.legend()"
   ]
  },
  {
   "cell_type": "code",
   "execution_count": 154,
   "id": "2c8822ff",
   "metadata": {},
   "outputs": [
    {
     "data": {
      "text/plain": [
       "<matplotlib.legend.Legend at 0x7fc921594b80>"
      ]
     },
     "execution_count": 154,
     "metadata": {},
     "output_type": "execute_result"
    },
    {
     "data": {
      "image/png": "[encoded data removed]",
      "text/plain": [
       "<Figure size 432x288 with 1 Axes>"
      ]
     },
     "metadata": {
      "needs_background": "light"
     },
     "output_type": "display_data"
    }
   ],
   "source": [
    "# data_smogn = data_smogn.reset_index()\n",
    "sns.kdeplot(data['fieryness_x'], label='original')\n",
    "# sns.kdeplot(data_smogn['fieryness_x'], label='modified')\n",
    "plt.legend()"
   ]
  },
  {
   "cell_type": "code",
   "execution_count": 143,
   "id": "46ecefbd",
   "metadata": {},
   "outputs": [
    {
     "data": {
      "text/plain": [
       "(53, 14)"
      ]
     },
     "execution_count": 143,
     "metadata": {},
     "output_type": "execute_result"
    }
   ],
   "source": [
    "data_smogn.shape"
   ]
  },
  {
   "cell_type": "code",
   "execution_count": 144,
   "id": "2d923875",
   "metadata": {},
   "outputs": [
    {
     "data": {
      "text/plain": [
       "(89, 12)"
      ]
     },
     "execution_count": 144,
     "metadata": {},
     "output_type": "execute_result"
    }
   ],
   "source": [
    "data.shape"
   ]
  },
  {
   "cell_type": "code",
   "execution_count": 145,
   "id": "c1f0462e",
   "metadata": {},
   "outputs": [
    {
     "name": "stderr",
     "output_type": "stream",
     "text": [
      "r_index: 100%|######################################################################################| 8/8 [00:00<00:00, 3784.19it/s]\n"
     ]
    }
   ],
   "source": [
    "data_ro = iblr.ro(data=data,y='fieryness_x', rel_thres=0.1, rel_method='manual',rel_ctrl_pts_rg=rg_mtrx)"
   ]
  },
  {
   "cell_type": "code",
   "execution_count": 146,
   "id": "1f4aa307",
   "metadata": {},
   "outputs": [
    {
     "data": {
      "text/plain": [
       "<matplotlib.legend.Legend at 0x7fc9509ca4f0>"
      ]
     },
     "execution_count": 146,
     "metadata": {},
     "output_type": "execute_result"
    },
    {
     "data": {
      "image/png": "[encoded data removed]",
      "text/plain": [
       "<Figure size 432x288 with 1 Axes>"
      ]
     },
     "metadata": {
      "needs_background": "light"
     },
     "output_type": "display_data"
    }
   ],
   "source": [
    "data_ro = data_ro.reset_index()\n",
    "sns.kdeplot(data['fieryness_x'], label='original')\n",
    "sns.kdeplot(data_ro['fieryness_x'], label='modified')\n",
    "plt.legend()"
   ]
  },
  {
   "cell_type": "code",
   "execution_count": 128,
   "id": "d46e4828",
   "metadata": {},
   "outputs": [
    {
     "data": {
      "text/plain": [
       "(122, 13)"
      ]
     },
     "execution_count": 128,
     "metadata": {},
     "output_type": "execute_result"
    }
   ],
   "source": [
    "data_ro.shape"
   ]
  },
  {
   "cell_type": "code",
   "execution_count": 132,
   "id": "b0dda827",
   "metadata": {},
   "outputs": [
    {
     "name": "stderr",
     "output_type": "stream",
     "text": [
      "r_index: 100%|####################################################################################| 10/10 [00:00<00:00, 1015.84it/s]\n"
     ]
    }
   ],
   "source": [
    "data_gn = iblr.gn(data=data,y='fieryness_x', rel_thres=0.1, rel_method='manual',rel_ctrl_pts_rg=rg_mtrx)"
   ]
  },
  {
   "cell_type": "code",
   "execution_count": 133,
   "id": "5d899113",
   "metadata": {},
   "outputs": [
    {
     "data": {
      "text/plain": [
       "<matplotlib.legend.Legend at 0x7fc950a83790>"
      ]
     },
     "execution_count": 133,
     "metadata": {},
     "output_type": "execute_result"
    },
    {
     "data": {
      "image/png": "[encoded data removed]",
      "text/plain": [
       "<Figure size 432x288 with 1 Axes>"
      ]
     },
     "metadata": {
      "needs_background": "light"
     },
     "output_type": "display_data"
    }
   ],
   "source": [
    "data_gn = data_gn.reset_index()\n",
    "sns.kdeplot(data['fieryness_x'], label='original')\n",
    "sns.kdeplot(data_gn['fieryness_x'], label='modified')\n",
    "plt.legend()"
   ]
  },
  {
   "cell_type": "code",
   "execution_count": 99,
   "id": "eed91e3d",
   "metadata": {},
   "outputs": [
    {
     "data": {
      "text/plain": [
       "(14114, 11)"
      ]
     },
     "execution_count": 99,
     "metadata": {},
     "output_type": "execute_result"
    }
   ],
   "source": [
    "data_ro.shape"
   ]
  },
  {
   "cell_type": "code",
   "execution_count": 100,
   "id": "de0c9658",
   "metadata": {},
   "outputs": [
    {
     "data": {
      "text/plain": [
       "(10080, 11)"
      ]
     },
     "execution_count": 100,
     "metadata": {},
     "output_type": "execute_result"
    }
   ],
   "source": [
    "data_gn.shape"
   ]
  },
  {
   "cell_type": "code",
   "execution_count": 101,
   "id": "88fb955b",
   "metadata": {},
   "outputs": [
    {
     "data": {
      "text/plain": [
       "(9074, 11)"
      ]
     },
     "execution_count": 101,
     "metadata": {},
     "output_type": "execute_result"
    }
   ],
   "source": [
    "data_smogn.shape"
   ]
  },
  {
   "cell_type": "code",
   "execution_count": 28,
   "id": "d6288fa8",
   "metadata": {},
   "outputs": [
    {
     "name": "stderr",
     "output_type": "stream",
     "text": [
      "dist_matrix: 100%|##################################################################################| 97/97 [00:01<00:00, 71.27it/s]\n",
      "synth_matrix: 100%|#################################################################################| 97/97 [00:01<00:00, 58.51it/s]\n",
      "r_index: 100%|####################################################################################| 20/20 [00:00<00:00, 1332.10it/s]\n"
     ]
    }
   ],
   "source": [
    "data_smote = iblr.smote(data=data,y='fieryness_x', rel_thres=0.5, rel_method='manual',rel_ctrl_pts_rg=rg_mtrx)"
   ]
  },
  {
   "cell_type": "code",
   "execution_count": 29,
   "id": "61e787fc",
   "metadata": {},
   "outputs": [
    {
     "data": {
      "text/plain": [
       "<AxesSubplot:xlabel='fieryness_x', ylabel='Density'>"
      ]
     },
     "execution_count": 29,
     "metadata": {},
     "output_type": "execute_result"
    },
    {
     "data": {
      "image/png": "[encoded data removed]",
      "text/plain": [
       "<Figure size 432x288 with 1 Axes>"
      ]
     },
     "metadata": {
      "needs_background": "light"
     },
     "output_type": "display_data"
    }
   ],
   "source": [
    "data_smote = data_smote.reset_index()\n",
    "sns.kdeplot(data['fieryness_x'], label='original')\n",
    "sns.kdeplot(data_smote['fieryness_x'], label='modified')"
   ]
  },
  {
   "cell_type": "code",
   "execution_count": 33,
   "id": "c3cd2303",
   "metadata": {},
   "outputs": [
    {
     "data": {
      "text/html": [
       "<div>\n",
       "<style scoped>\n",
       "    .dataframe tbody tr th:only-of-type {\n",
       "        vertical-align: middle;\n",
       "    }\n",
       "\n",
       "    .dataframe tbody tr th {\n",
       "        vertical-align: top;\n",
       "    }\n",
       "\n",
       "    .dataframe thead th {\n",
       "        text-align: right;\n",
       "    }\n",
       "</style>\n",
       "<table border=\"1\" class=\"dataframe\">\n",
       "  <thead>\n",
       "    <tr style=\"text-align: right;\">\n",
       "      <th></th>\n",
       "      <th>fieryness_x</th>\n",
       "      <th>temperature_x</th>\n",
       "      <th>brokenness_x</th>\n",
       "      <th>building_code_x</th>\n",
       "      <th>fire_index_x</th>\n",
       "      <th>extinguished_x</th>\n",
       "      <th>fieryness_y</th>\n",
       "      <th>temperature_y</th>\n",
       "      <th>brokenness_y</th>\n",
       "      <th>building_code_y</th>\n",
       "      <th>fire_index_y</th>\n",
       "      <th>extinguished_y</th>\n",
       "    </tr>\n",
       "  </thead>\n",
       "  <tbody>\n",
       "    <tr>\n",
       "      <th>0</th>\n",
       "      <td>0.0</td>\n",
       "      <td>0.0</td>\n",
       "      <td>0.0</td>\n",
       "      <td>0.0</td>\n",
       "      <td>0.0</td>\n",
       "      <td>0.0</td>\n",
       "      <td>0.0</td>\n",
       "      <td>0.0</td>\n",
       "      <td>0.0</td>\n",
       "      <td>0.0</td>\n",
       "      <td>0.0</td>\n",
       "      <td>0.0</td>\n",
       "    </tr>\n",
       "    <tr>\n",
       "      <th>1</th>\n",
       "      <td>0.0</td>\n",
       "      <td>0.0</td>\n",
       "      <td>0.0</td>\n",
       "      <td>0.0</td>\n",
       "      <td>0.0</td>\n",
       "      <td>0.0</td>\n",
       "      <td>0.0</td>\n",
       "      <td>0.0</td>\n",
       "      <td>0.0</td>\n",
       "      <td>0.0</td>\n",
       "      <td>0.0</td>\n",
       "      <td>0.0</td>\n",
       "    </tr>\n",
       "    <tr>\n",
       "      <th>2</th>\n",
       "      <td>0.0</td>\n",
       "      <td>0.0</td>\n",
       "      <td>0.0</td>\n",
       "      <td>0.0</td>\n",
       "      <td>0.0</td>\n",
       "      <td>0.0</td>\n",
       "      <td>0.0</td>\n",
       "      <td>0.0</td>\n",
       "      <td>0.0</td>\n",
       "      <td>0.0</td>\n",
       "      <td>0.0</td>\n",
       "      <td>0.0</td>\n",
       "    </tr>\n",
       "    <tr>\n",
       "      <th>3</th>\n",
       "      <td>0.0</td>\n",
       "      <td>0.0</td>\n",
       "      <td>0.0</td>\n",
       "      <td>0.0</td>\n",
       "      <td>0.0</td>\n",
       "      <td>0.0</td>\n",
       "      <td>0.0</td>\n",
       "      <td>0.0</td>\n",
       "      <td>0.0</td>\n",
       "      <td>0.0</td>\n",
       "      <td>0.0</td>\n",
       "      <td>0.0</td>\n",
       "    </tr>\n",
       "    <tr>\n",
       "      <th>4</th>\n",
       "      <td>0.0</td>\n",
       "      <td>0.0</td>\n",
       "      <td>0.0</td>\n",
       "      <td>0.0</td>\n",
       "      <td>0.0</td>\n",
       "      <td>0.0</td>\n",
       "      <td>0.0</td>\n",
       "      <td>0.0</td>\n",
       "      <td>0.0</td>\n",
       "      <td>0.0</td>\n",
       "      <td>0.0</td>\n",
       "      <td>0.0</td>\n",
       "    </tr>\n",
       "  </tbody>\n",
       "</table>\n",
       "</div>"
      ],
      "text/plain": [
       "   fieryness_x  temperature_x  brokenness_x  building_code_x  fire_index_x  \\\n",
       "0          0.0            0.0           0.0              0.0           0.0   \n",
       "1          0.0            0.0           0.0              0.0           0.0   \n",
       "2          0.0            0.0           0.0              0.0           0.0   \n",
       "3          0.0            0.0           0.0              0.0           0.0   \n",
       "4          0.0            0.0           0.0              0.0           0.0   \n",
       "\n",
       "   extinguished_x  fieryness_y  temperature_y  brokenness_y  building_code_y  \\\n",
       "0             0.0          0.0            0.0           0.0              0.0   \n",
       "1             0.0          0.0            0.0           0.0              0.0   \n",
       "2             0.0          0.0            0.0           0.0              0.0   \n",
       "3             0.0          0.0            0.0           0.0              0.0   \n",
       "4             0.0          0.0            0.0           0.0              0.0   \n",
       "\n",
       "   fire_index_y  extinguished_y  \n",
       "0           0.0             0.0  \n",
       "1           0.0             0.0  \n",
       "2           0.0             0.0  \n",
       "3           0.0             0.0  \n",
       "4           0.0             0.0  "
      ]
     },
     "execution_count": 33,
     "metadata": {},
     "output_type": "execute_result"
    }
   ],
   "source": [
    "data.head()"
   ]
  },
  {
   "cell_type": "code",
   "execution_count": 3,
   "id": "855a2619",
   "metadata": {},
   "outputs": [
    {
     "data": {
      "text/plain": [
       "(505, 500)"
      ]
     },
     "execution_count": 3,
     "metadata": {},
     "output_type": "execute_result"
    }
   ],
   "source": [
    "data=pd.read_csv('env_data_combined.csv', header=None)\n",
    "data.shape"
   ]
  },
  {
   "cell_type": "code",
   "execution_count": 5,
   "id": "da4006d0",
   "metadata": {},
   "outputs": [],
   "source": [
    "np_data = data.to_numpy()"
   ]
  },
  {
   "cell_type": "code",
   "execution_count": 6,
   "id": "02838aa7",
   "metadata": {},
   "outputs": [
    {
     "data": {
      "text/plain": [
       "(505, 500)"
      ]
     },
     "execution_count": 6,
     "metadata": {},
     "output_type": "execute_result"
    }
   ],
   "source": [
    "np_data.shape"
   ]
  },
  {
   "cell_type": "code",
   "execution_count": 8,
   "id": "50daaa79",
   "metadata": {},
   "outputs": [
    {
     "data": {
      "text/plain": [
       "(50500, 5)"
      ]
     },
     "execution_count": 8,
     "metadata": {},
     "output_type": "execute_result"
    }
   ],
   "source": [
    "np_data=np_data.reshape(-1, 5)\n",
    "np_data.shape"
   ]
  },
  {
   "cell_type": "code",
   "execution_count": 9,
   "id": "bc6875ac",
   "metadata": {},
   "outputs": [
    {
     "data": {
      "text/html": [
       "<div>\n",
       "<style scoped>\n",
       "    .dataframe tbody tr th:only-of-type {\n",
       "        vertical-align: middle;\n",
       "    }\n",
       "\n",
       "    .dataframe tbody tr th {\n",
       "        vertical-align: top;\n",
       "    }\n",
       "\n",
       "    .dataframe thead th {\n",
       "        text-align: right;\n",
       "    }\n",
       "</style>\n",
       "<table border=\"1\" class=\"dataframe\">\n",
       "  <thead>\n",
       "    <tr style=\"text-align: right;\">\n",
       "      <th></th>\n",
       "      <th>temperature</th>\n",
       "      <th>fieryness</th>\n",
       "      <th>brokenness</th>\n",
       "      <th>building code</th>\n",
       "      <th>fire index</th>\n",
       "    </tr>\n",
       "  </thead>\n",
       "  <tbody>\n",
       "    <tr>\n",
       "      <th>0</th>\n",
       "      <td>0.0</td>\n",
       "      <td>0.0</td>\n",
       "      <td>0.0</td>\n",
       "      <td>0.0</td>\n",
       "      <td>0.0</td>\n",
       "    </tr>\n",
       "    <tr>\n",
       "      <th>1</th>\n",
       "      <td>0.0</td>\n",
       "      <td>0.0</td>\n",
       "      <td>0.0</td>\n",
       "      <td>0.0</td>\n",
       "      <td>0.0</td>\n",
       "    </tr>\n",
       "    <tr>\n",
       "      <th>2</th>\n",
       "      <td>0.0</td>\n",
       "      <td>0.0</td>\n",
       "      <td>0.0</td>\n",
       "      <td>0.0</td>\n",
       "      <td>0.0</td>\n",
       "    </tr>\n",
       "    <tr>\n",
       "      <th>3</th>\n",
       "      <td>0.0</td>\n",
       "      <td>0.0</td>\n",
       "      <td>0.0</td>\n",
       "      <td>0.0</td>\n",
       "      <td>0.0</td>\n",
       "    </tr>\n",
       "    <tr>\n",
       "      <th>4</th>\n",
       "      <td>0.0</td>\n",
       "      <td>0.0</td>\n",
       "      <td>0.0</td>\n",
       "      <td>0.0</td>\n",
       "      <td>0.0</td>\n",
       "    </tr>\n",
       "  </tbody>\n",
       "</table>\n",
       "</div>"
      ],
      "text/plain": [
       "   temperature  fieryness  brokenness  building code  fire index\n",
       "0          0.0        0.0         0.0            0.0         0.0\n",
       "1          0.0        0.0         0.0            0.0         0.0\n",
       "2          0.0        0.0         0.0            0.0         0.0\n",
       "3          0.0        0.0         0.0            0.0         0.0\n",
       "4          0.0        0.0         0.0            0.0         0.0"
      ]
     },
     "execution_count": 9,
     "metadata": {},
     "output_type": "execute_result"
    }
   ],
   "source": [
    "df_data=pd.DataFrame(np_data, columns=['temperature', 'fieryness', 'brokenness', 'building code', 'fire index'])\n",
    "df_data.head()"
   ]
  },
  {
   "cell_type": "code",
   "execution_count": 12,
   "id": "029a0eaf",
   "metadata": {},
   "outputs": [
    {
     "data": {
      "text/plain": [
       "<AxesSubplot:title={'center':'Correlation of Numeric Features'}>"
      ]
     },
     "execution_count": 12,
     "metadata": {},
     "output_type": "execute_result"
    },
    {
     "data": {
      "image/png": "[encoded data removed]",
      "text/plain": [
       "<Figure size 1008x864 with 2 Axes>"
      ]
     },
     "metadata": {
      "needs_background": "light"
     },
     "output_type": "display_data"
    }
   ],
   "source": [
    "correlation = df_data.corr()\n",
    "f,ax=plt.subplots(figsize=(14,12))\n",
    "plt.title('Correlation of Numeric Features', y=1, size = 6)\n",
    "sns.heatmap(correlation, square=True)"
   ]
  },
  {
   "cell_type": "code",
   "execution_count": 38,
   "id": "27309a57",
   "metadata": {},
   "outputs": [],
   "source": [
    "temps = np_data.reshape(-1, 500)[330, :]"
   ]
  },
  {
   "cell_type": "code",
   "execution_count": 39,
   "id": "02a47114",
   "metadata": {},
   "outputs": [
    {
     "data": {
      "text/plain": [
       "(500,)"
      ]
     },
     "execution_count": 39,
     "metadata": {},
     "output_type": "execute_result"
    }
   ],
   "source": [
    "temps.shape"
   ]
  },
  {
   "cell_type": "code",
   "execution_count": 40,
   "id": "35e9ca4f",
   "metadata": {},
   "outputs": [
    {
     "data": {
      "text/plain": [
       "[<matplotlib.lines.Line2D at 0x7fa1bc71fbb0>]"
      ]
     },
     "execution_count": 40,
     "metadata": {},
     "output_type": "execute_result"
    },
    {
     "data": {
      "image/png": "[encoded data removed]",
      "text/plain": [
       "<Figure size 432x288 with 1 Axes>"
      ]
     },
     "metadata": {
      "needs_background": "light"
     },
     "output_type": "display_data"
    }
   ],
   "source": [
    "plt.plot(temps)"
   ]
  },
  {
   "cell_type": "code",
   "execution_count": 51,
   "id": "3d005101",
   "metadata": {},
   "outputs": [],
   "source": [
    "X= temps.reshape(-1, 5)\n",
    "y=X[:, 0]"
   ]
  },
  {
   "cell_type": "code",
   "execution_count": 52,
   "id": "29aa7a5d",
   "metadata": {},
   "outputs": [
    {
     "data": {
      "text/html": [
       "<div>\n",
       "<style scoped>\n",
       "    .dataframe tbody tr th:only-of-type {\n",
       "        vertical-align: middle;\n",
       "    }\n",
       "\n",
       "    .dataframe tbody tr th {\n",
       "        vertical-align: top;\n",
       "    }\n",
       "\n",
       "    .dataframe thead th {\n",
       "        text-align: right;\n",
       "    }\n",
       "</style>\n",
       "<table border=\"1\" class=\"dataframe\">\n",
       "  <thead>\n",
       "    <tr style=\"text-align: right;\">\n",
       "      <th></th>\n",
       "      <th>0</th>\n",
       "      <th>1</th>\n",
       "      <th>2</th>\n",
       "      <th>3</th>\n",
       "      <th>4</th>\n",
       "    </tr>\n",
       "  </thead>\n",
       "  <tbody>\n",
       "    <tr>\n",
       "      <th>0</th>\n",
       "      <td>0.0</td>\n",
       "      <td>0.0</td>\n",
       "      <td>0.0</td>\n",
       "      <td>1.0</td>\n",
       "      <td>0.0</td>\n",
       "    </tr>\n",
       "    <tr>\n",
       "      <th>1</th>\n",
       "      <td>1.0</td>\n",
       "      <td>0.0</td>\n",
       "      <td>22.0</td>\n",
       "      <td>1.0</td>\n",
       "      <td>90.0</td>\n",
       "    </tr>\n",
       "    <tr>\n",
       "      <th>2</th>\n",
       "      <td>1.0</td>\n",
       "      <td>0.0</td>\n",
       "      <td>22.0</td>\n",
       "      <td>1.0</td>\n",
       "      <td>107.0</td>\n",
       "    </tr>\n",
       "    <tr>\n",
       "      <th>3</th>\n",
       "      <td>2.0</td>\n",
       "      <td>0.0</td>\n",
       "      <td>22.0</td>\n",
       "      <td>1.0</td>\n",
       "      <td>131.0</td>\n",
       "    </tr>\n",
       "    <tr>\n",
       "      <th>4</th>\n",
       "      <td>2.0</td>\n",
       "      <td>0.0</td>\n",
       "      <td>22.0</td>\n",
       "      <td>1.0</td>\n",
       "      <td>131.0</td>\n",
       "    </tr>\n",
       "    <tr>\n",
       "      <th>...</th>\n",
       "      <td>...</td>\n",
       "      <td>...</td>\n",
       "      <td>...</td>\n",
       "      <td>...</td>\n",
       "      <td>...</td>\n",
       "    </tr>\n",
       "    <tr>\n",
       "      <th>95</th>\n",
       "      <td>146.0</td>\n",
       "      <td>3.0</td>\n",
       "      <td>22.0</td>\n",
       "      <td>1.0</td>\n",
       "      <td>210.0</td>\n",
       "    </tr>\n",
       "    <tr>\n",
       "      <th>96</th>\n",
       "      <td>146.0</td>\n",
       "      <td>3.0</td>\n",
       "      <td>22.0</td>\n",
       "      <td>1.0</td>\n",
       "      <td>210.0</td>\n",
       "    </tr>\n",
       "    <tr>\n",
       "      <th>97</th>\n",
       "      <td>146.0</td>\n",
       "      <td>3.0</td>\n",
       "      <td>22.0</td>\n",
       "      <td>1.0</td>\n",
       "      <td>210.0</td>\n",
       "    </tr>\n",
       "    <tr>\n",
       "      <th>98</th>\n",
       "      <td>146.0</td>\n",
       "      <td>3.0</td>\n",
       "      <td>22.0</td>\n",
       "      <td>1.0</td>\n",
       "      <td>210.0</td>\n",
       "    </tr>\n",
       "    <tr>\n",
       "      <th>99</th>\n",
       "      <td>146.0</td>\n",
       "      <td>3.0</td>\n",
       "      <td>22.0</td>\n",
       "      <td>1.0</td>\n",
       "      <td>210.0</td>\n",
       "    </tr>\n",
       "  </tbody>\n",
       "</table>\n",
       "<p>100 rows × 5 columns</p>\n",
       "</div>"
      ],
      "text/plain": [
       "        0    1     2    3      4\n",
       "0     0.0  0.0   0.0  1.0    0.0\n",
       "1     1.0  0.0  22.0  1.0   90.0\n",
       "2     1.0  0.0  22.0  1.0  107.0\n",
       "3     2.0  0.0  22.0  1.0  131.0\n",
       "4     2.0  0.0  22.0  1.0  131.0\n",
       "..    ...  ...   ...  ...    ...\n",
       "95  146.0  3.0  22.0  1.0  210.0\n",
       "96  146.0  3.0  22.0  1.0  210.0\n",
       "97  146.0  3.0  22.0  1.0  210.0\n",
       "98  146.0  3.0  22.0  1.0  210.0\n",
       "99  146.0  3.0  22.0  1.0  210.0\n",
       "\n",
       "[100 rows x 5 columns]"
      ]
     },
     "execution_count": 52,
     "metadata": {},
     "output_type": "execute_result"
    }
   ],
   "source": [
    "df=pd.DataFrame(X)\n",
    "df"
   ]
  },
  {
   "cell_type": "code",
   "execution_count": 48,
   "id": "c39a3ac8",
   "metadata": {},
   "outputs": [
    {
     "data": {
      "text/plain": [
       "array([  0.,   1.,   1.,   2.,   2.,   6.,   6.,  17.,  17.,  17.,  17.,\n",
       "        17.,  17.,  17.,  17.,  17.,  17.,  17.,  17.,  17.,  17.,  17.,\n",
       "        17.,  17.,  17.,  17.,  17.,  17.,  17.,  17.,  17.,  17.,  17.,\n",
       "        17.,  17.,  17.,  17.,  17.,  17.,  17.,  17.,  17.,  17.,  17.,\n",
       "        17.,  17.,  17.,  17.,  17.,  17.,  17.,  17.,  17.,  17.,  17.,\n",
       "        17.,  17.,  17.,  17.,  17.,  17.,  17.,  17.,  17.,  17.,  17.,\n",
       "        17., 195., 195., 195., 195., 195., 195., 195., 195., 195., 195.,\n",
       "       195., 195., 195., 195., 151., 151., 151., 151., 150., 150., 150.,\n",
       "       148., 146., 146., 146., 146., 146., 146., 146., 146., 146., 146.,\n",
       "       146.])"
      ]
     },
     "execution_count": 48,
     "metadata": {},
     "output_type": "execute_result"
    }
   ],
   "source": [
    "y"
   ]
  },
  {
   "cell_type": "code",
   "execution_count": 53,
   "id": "2abbd758",
   "metadata": {},
   "outputs": [
    {
     "data": {
      "text/html": [
       "<div>\n",
       "<style scoped>\n",
       "    .dataframe tbody tr th:only-of-type {\n",
       "        vertical-align: middle;\n",
       "    }\n",
       "\n",
       "    .dataframe tbody tr th {\n",
       "        vertical-align: top;\n",
       "    }\n",
       "\n",
       "    .dataframe thead th {\n",
       "        text-align: right;\n",
       "    }\n",
       "</style>\n",
       "<table border=\"1\" class=\"dataframe\">\n",
       "  <thead>\n",
       "    <tr style=\"text-align: right;\">\n",
       "      <th></th>\n",
       "      <th>0</th>\n",
       "      <th>1</th>\n",
       "      <th>2</th>\n",
       "      <th>3</th>\n",
       "      <th>4</th>\n",
       "    </tr>\n",
       "  </thead>\n",
       "  <tbody>\n",
       "    <tr>\n",
       "      <th>0</th>\n",
       "      <td>1.0</td>\n",
       "      <td>0.0</td>\n",
       "      <td>22.0</td>\n",
       "      <td>1.0</td>\n",
       "      <td>90.0</td>\n",
       "    </tr>\n",
       "    <tr>\n",
       "      <th>1</th>\n",
       "      <td>1.0</td>\n",
       "      <td>0.0</td>\n",
       "      <td>22.0</td>\n",
       "      <td>1.0</td>\n",
       "      <td>107.0</td>\n",
       "    </tr>\n",
       "    <tr>\n",
       "      <th>2</th>\n",
       "      <td>2.0</td>\n",
       "      <td>0.0</td>\n",
       "      <td>22.0</td>\n",
       "      <td>1.0</td>\n",
       "      <td>131.0</td>\n",
       "    </tr>\n",
       "    <tr>\n",
       "      <th>3</th>\n",
       "      <td>2.0</td>\n",
       "      <td>0.0</td>\n",
       "      <td>22.0</td>\n",
       "      <td>1.0</td>\n",
       "      <td>131.0</td>\n",
       "    </tr>\n",
       "    <tr>\n",
       "      <th>4</th>\n",
       "      <td>6.0</td>\n",
       "      <td>0.0</td>\n",
       "      <td>22.0</td>\n",
       "      <td>1.0</td>\n",
       "      <td>203.0</td>\n",
       "    </tr>\n",
       "    <tr>\n",
       "      <th>...</th>\n",
       "      <td>...</td>\n",
       "      <td>...</td>\n",
       "      <td>...</td>\n",
       "      <td>...</td>\n",
       "      <td>...</td>\n",
       "    </tr>\n",
       "    <tr>\n",
       "      <th>95</th>\n",
       "      <td>146.0</td>\n",
       "      <td>3.0</td>\n",
       "      <td>22.0</td>\n",
       "      <td>1.0</td>\n",
       "      <td>210.0</td>\n",
       "    </tr>\n",
       "    <tr>\n",
       "      <th>96</th>\n",
       "      <td>146.0</td>\n",
       "      <td>3.0</td>\n",
       "      <td>22.0</td>\n",
       "      <td>1.0</td>\n",
       "      <td>210.0</td>\n",
       "    </tr>\n",
       "    <tr>\n",
       "      <th>97</th>\n",
       "      <td>146.0</td>\n",
       "      <td>3.0</td>\n",
       "      <td>22.0</td>\n",
       "      <td>1.0</td>\n",
       "      <td>210.0</td>\n",
       "    </tr>\n",
       "    <tr>\n",
       "      <th>98</th>\n",
       "      <td>146.0</td>\n",
       "      <td>3.0</td>\n",
       "      <td>22.0</td>\n",
       "      <td>1.0</td>\n",
       "      <td>210.0</td>\n",
       "    </tr>\n",
       "    <tr>\n",
       "      <th>99</th>\n",
       "      <td>NaN</td>\n",
       "      <td>NaN</td>\n",
       "      <td>NaN</td>\n",
       "      <td>NaN</td>\n",
       "      <td>NaN</td>\n",
       "    </tr>\n",
       "  </tbody>\n",
       "</table>\n",
       "<p>100 rows × 5 columns</p>\n",
       "</div>"
      ],
      "text/plain": [
       "        0    1     2    3      4\n",
       "0     1.0  0.0  22.0  1.0   90.0\n",
       "1     1.0  0.0  22.0  1.0  107.0\n",
       "2     2.0  0.0  22.0  1.0  131.0\n",
       "3     2.0  0.0  22.0  1.0  131.0\n",
       "4     6.0  0.0  22.0  1.0  203.0\n",
       "..    ...  ...   ...  ...    ...\n",
       "95  146.0  3.0  22.0  1.0  210.0\n",
       "96  146.0  3.0  22.0  1.0  210.0\n",
       "97  146.0  3.0  22.0  1.0  210.0\n",
       "98  146.0  3.0  22.0  1.0  210.0\n",
       "99    NaN  NaN   NaN  NaN    NaN\n",
       "\n",
       "[100 rows x 5 columns]"
      ]
     },
     "execution_count": 53,
     "metadata": {},
     "output_type": "execute_result"
    }
   ],
   "source": [
    "df.shift(-1)"
   ]
  },
  {
   "cell_type": "code",
   "execution_count": 54,
   "id": "792aad2a",
   "metadata": {},
   "outputs": [
    {
     "data": {
      "text/plain": [
       "<AxesSubplot:>"
      ]
     },
     "execution_count": 54,
     "metadata": {},
     "output_type": "execute_result"
    },
    {
     "data": {
      "image/png": "[encoded data removed]",
      "text/plain": [
       "<Figure size 432x288 with 1 Axes>"
      ]
     },
     "metadata": {
      "needs_background": "light"
     },
     "output_type": "display_data"
    }
   ],
   "source": [
    "df.plot()"
   ]
  },
  {
   "cell_type": "code",
   "execution_count": 56,
   "id": "da711ef0",
   "metadata": {},
   "outputs": [
    {
     "ename": "SyntaxError",
     "evalue": "closing parenthesis ')' does not match opening parenthesis '[' (1416875918.py, line 1)",
     "output_type": "error",
     "traceback": [
      "\u001b[0;36m  Input \u001b[0;32mIn [56]\u001b[0;36m\u001b[0m\n\u001b[0;31m    d=np.array([[0.], [0.], [0.], [0.], [0.], [0.], [0.], [0.], [0.], [0.], [0.], [0.], [0.], [0.], [0.], [0.], [0.], [0.], [0.], [0.], [0.], [0.], [0.], [0.], [0.], [0.], [0.], [0.], [0.], [0.], [0.], [0.], [0.], [0.], [0.], [0.], [0.], [0.], [0.], [0.], [0.], [0.], [0.)\u001b[0m\n\u001b[0m                                                                                                                                                                                                                                                                               ^\u001b[0m\n\u001b[0;31mSyntaxError\u001b[0m\u001b[0;31m:\u001b[0m closing parenthesis ')' does not match opening parenthesis '['\n"
     ]
    }
   ],
   "source": [
    "d=np.array([[0.], [0.], [0.], [0.], [0.], [0.], [0.], [0.], [0.], [0.], [0.], [0.], [0.], [0.], [0.], [0.], [0.], [0.], [0.], [0.], [0.], [0.], [0.], [0.], [0.], [0.], [0.], [0.], [0.], [0.], [0.], [0.], [0.], [0.], [0.], [0.], [0.], [0.], [0.], [0.], [0.], [0.], [0.)"
   ]
  },
  {
   "cell_type": "code",
   "execution_count": 5,
   "id": "e75a9d3b",
   "metadata": {},
   "outputs": [
    {
     "data": {
      "text/plain": [
       "<AxesSubplot:>"
      ]
     },
     "execution_count": 5,
     "metadata": {},
     "output_type": "execute_result"
    },
    {
     "data": {
      "image/png": "[encoded data removed]",
      "text/plain": [
       "<Figure size 432x288 with 1 Axes>"
      ]
     },
     "metadata": {
      "needs_background": "light"
     },
     "output_type": "display_data"
    }
   ],
   "source": [
    "x = [1,2,3,4,5,6,7,8,9]\n",
    "y = [None,0.5,0.6,None,0.2,0.4,0.3,None,None]\n",
    "sns.scatterplot(x=x,y=y)"
   ]
  },
  {
   "cell_type": "code",
   "execution_count": null,
   "id": "571c870e",
   "metadata": {},
   "outputs": [],
   "source": []
  }
 ],
 "metadata": {
  "kernelspec": {
   "display_name": "Python 3 (ipykernel)",
   "language": "python",
   "name": "python3"
  },
  "language_info": {
   "codemirror_mode": {
    "name": "ipython",
    "version": 3
   },
   "file_extension": ".py",
   "mimetype": "text/x-python",
   "name": "python",
   "nbconvert_exporter": "python",
   "pygments_lexer": "ipython3",
   "version": "3.9.7"
  }
 },
 "nbformat": 4,
 "nbformat_minor": 5
}
