{
 "cells": [
  {
   "cell_type": "code",
   "execution_count": 63,
   "id": "e8307290",
   "metadata": {},
   "outputs": [],
   "source": [
    "import ImbalancedLearningRegression as iblr\n",
    "import pandas as pd\n",
    "import seaborn as sns\n",
    "import matplotlib.pyplot as plt\n",
    "import smogn"
   ]
  },
  {
   "cell_type": "code",
   "execution_count": 87,
   "id": "36f82e64",
   "metadata": {},
   "outputs": [],
   "source": [
    "data = pd.read_csv('FireBrigadeAgent_410064826_training_data.csv')"
   ]
  },
  {
   "cell_type": "code",
   "execution_count": 88,
   "id": "5a6aacf7",
   "metadata": {},
   "outputs": [
    {
     "data": {
      "text/plain": [
       "(10081, 10)"
      ]
     },
     "execution_count": 88,
     "metadata": {},
     "output_type": "execute_result"
    }
   ],
   "source": [
    "data.shape"
   ]
  },
  {
   "cell_type": "code",
   "execution_count": 89,
   "id": "b2064472",
   "metadata": {},
   "outputs": [
    {
     "data": {
      "text/html": [
       "<div>\n",
       "<style scoped>\n",
       "    .dataframe tbody tr th:only-of-type {\n",
       "        vertical-align: middle;\n",
       "    }\n",
       "\n",
       "    .dataframe tbody tr th {\n",
       "        vertical-align: top;\n",
       "    }\n",
       "\n",
       "    .dataframe thead th {\n",
       "        text-align: right;\n",
       "    }\n",
       "</style>\n",
       "<table border=\"1\" class=\"dataframe\">\n",
       "  <thead>\n",
       "    <tr style=\"text-align: right;\">\n",
       "      <th></th>\n",
       "      <th>fieryness_x</th>\n",
       "      <th>temperature_x</th>\n",
       "      <th>brokenness_x</th>\n",
       "      <th>building_code_x</th>\n",
       "      <th>fire_index_x</th>\n",
       "      <th>fieryness_y</th>\n",
       "      <th>temperature_y</th>\n",
       "      <th>brokenness_y</th>\n",
       "      <th>building_code_y</th>\n",
       "      <th>fire_index_y</th>\n",
       "    </tr>\n",
       "  </thead>\n",
       "  <tbody>\n",
       "    <tr>\n",
       "      <th>0</th>\n",
       "      <td>0</td>\n",
       "      <td>0</td>\n",
       "      <td>0</td>\n",
       "      <td>0</td>\n",
       "      <td>0</td>\n",
       "      <td>0</td>\n",
       "      <td>0</td>\n",
       "      <td>0</td>\n",
       "      <td>0</td>\n",
       "      <td>0</td>\n",
       "    </tr>\n",
       "    <tr>\n",
       "      <th>1</th>\n",
       "      <td>0</td>\n",
       "      <td>0</td>\n",
       "      <td>0</td>\n",
       "      <td>0</td>\n",
       "      <td>0</td>\n",
       "      <td>0</td>\n",
       "      <td>0</td>\n",
       "      <td>0</td>\n",
       "      <td>0</td>\n",
       "      <td>0</td>\n",
       "    </tr>\n",
       "    <tr>\n",
       "      <th>2</th>\n",
       "      <td>0</td>\n",
       "      <td>0</td>\n",
       "      <td>0</td>\n",
       "      <td>0</td>\n",
       "      <td>0</td>\n",
       "      <td>0</td>\n",
       "      <td>0</td>\n",
       "      <td>0</td>\n",
       "      <td>0</td>\n",
       "      <td>0</td>\n",
       "    </tr>\n",
       "    <tr>\n",
       "      <th>3</th>\n",
       "      <td>0</td>\n",
       "      <td>0</td>\n",
       "      <td>0</td>\n",
       "      <td>0</td>\n",
       "      <td>0</td>\n",
       "      <td>0</td>\n",
       "      <td>0</td>\n",
       "      <td>0</td>\n",
       "      <td>0</td>\n",
       "      <td>0</td>\n",
       "    </tr>\n",
       "    <tr>\n",
       "      <th>4</th>\n",
       "      <td>0</td>\n",
       "      <td>0</td>\n",
       "      <td>0</td>\n",
       "      <td>0</td>\n",
       "      <td>0</td>\n",
       "      <td>0</td>\n",
       "      <td>0</td>\n",
       "      <td>0</td>\n",
       "      <td>0</td>\n",
       "      <td>0</td>\n",
       "    </tr>\n",
       "  </tbody>\n",
       "</table>\n",
       "</div>"
      ],
      "text/plain": [
       "   fieryness_x  temperature_x  brokenness_x  building_code_x  fire_index_x  \\\n",
       "0            0              0             0                0             0   \n",
       "1            0              0             0                0             0   \n",
       "2            0              0             0                0             0   \n",
       "3            0              0             0                0             0   \n",
       "4            0              0             0                0             0   \n",
       "\n",
       "   fieryness_y  temperature_y  brokenness_y  building_code_y  fire_index_y  \n",
       "0            0              0             0                0             0  \n",
       "1            0              0             0                0             0  \n",
       "2            0              0             0                0             0  \n",
       "3            0              0             0                0             0  \n",
       "4            0              0             0                0             0  "
      ]
     },
     "execution_count": 89,
     "metadata": {},
     "output_type": "execute_result"
    }
   ],
   "source": [
    "data.head()"
   ]
  },
  {
   "cell_type": "code",
   "execution_count": 90,
   "id": "3fa19147",
   "metadata": {},
   "outputs": [
    {
     "data": {
      "text/plain": [
       "array([0, 1, 3, 2])"
      ]
     },
     "execution_count": 90,
     "metadata": {},
     "output_type": "execute_result"
    }
   ],
   "source": [
    "data['fieryness_x'].unique()"
   ]
  },
  {
   "cell_type": "code",
   "execution_count": 108,
   "id": "68226922",
   "metadata": {},
   "outputs": [
    {
     "name": "stderr",
     "output_type": "stream",
     "text": [
      "dist_matrix: 100%|############################################################################| 1007/1007 [02:09<00:00,  7.77it/s]\n",
      "synth_matrix: 100%|##########################################################################| 1007/1007 [00:02<00:00, 404.81it/s]\n",
      "r_index: 100%|####################################################################################| 5/5 [00:00<00:00, 1379.80it/s]\n"
     ]
    }
   ],
   "source": [
    "rg_mtrx = [\n",
    "    [0, 0, 0],  ## under-sample\n",
    "    [1, 1, 0],  ## over-sample\n",
    "    [2, 1, 0],  ## over-sample\n",
    "    [3, 1, 0],  ## over-sample\n",
    "    [4, 0.5, 0],  ## under-sample\n",
    "    [5, 0.5, 0],  ## under-sample\n",
    "    [6, 0.5, 0],  ## under-sample\n",
    "    [7, 0.2, 0],  ## under-sample\n",
    "    [8, 0.2, 0],  ## under-sample\n",
    "]\n",
    "data_smogn=smogn.smoter(data=data,y='fieryness_x', rel_thres=0.5, rel_method='manual',rel_ctrl_pts_rg=rg_mtrx)"
   ]
  },
  {
   "cell_type": "code",
   "execution_count": 109,
   "id": "3b154a60",
   "metadata": {},
   "outputs": [
    {
     "data": {
      "text/plain": [
       "<AxesSubplot:xlabel='fieryness_x', ylabel='Density'>"
      ]
     },
     "execution_count": 109,
     "metadata": {},
     "output_type": "execute_result"
    },
    {
     "data": {
      "image/png": "[encoded data removed]",
      "text/plain": [
       "<Figure size 432x288 with 1 Axes>"
      ]
     },
     "metadata": {
      "needs_background": "light"
     },
     "output_type": "display_data"
    }
   ],
   "source": [
    "data_smogn = data_smogn.reset_index()\n",
    "sns.kdeplot(data['fieryness_x'], label='original')\n",
    "sns.kdeplot(data_smogn['fieryness_x'], label='modified')"
   ]
  },
  {
   "cell_type": "code",
   "execution_count": 92,
   "id": "2c8822ff",
   "metadata": {},
   "outputs": [
    {
     "data": {
      "text/plain": [
       "<AxesSubplot:xlabel='fieryness_x', ylabel='Density'>"
      ]
     },
     "execution_count": 92,
     "metadata": {},
     "output_type": "execute_result"
    },
    {
     "data": {
      "image/png": "[encoded data removed]",
      "text/plain": [
       "<Figure size 432x288 with 1 Axes>"
      ]
     },
     "metadata": {
      "needs_background": "light"
     },
     "output_type": "display_data"
    }
   ],
   "source": [
    "data_smogn = data_smogn.reset_index()\n",
    "sns.kdeplot(data['fieryness_x'], label='original')\n",
    "sns.kdeplot(data_smogn['fieryness_x'], label='modified')"
   ]
  },
  {
   "cell_type": "code",
   "execution_count": 93,
   "id": "46ecefbd",
   "metadata": {},
   "outputs": [
    {
     "data": {
      "text/plain": [
       "(9074, 11)"
      ]
     },
     "execution_count": 93,
     "metadata": {},
     "output_type": "execute_result"
    }
   ],
   "source": [
    "data_smogn.shape"
   ]
  },
  {
   "cell_type": "code",
   "execution_count": 94,
   "id": "2d923875",
   "metadata": {},
   "outputs": [
    {
     "data": {
      "text/plain": [
       "(10081, 10)"
      ]
     },
     "execution_count": 94,
     "metadata": {},
     "output_type": "execute_result"
    }
   ],
   "source": [
    "data.shape"
   ]
  },
  {
   "cell_type": "code",
   "execution_count": 106,
   "id": "c1f0462e",
   "metadata": {},
   "outputs": [
    {
     "name": "stderr",
     "output_type": "stream",
     "text": [
      "r_index: 100%|##############################################################################| 4033/4033 [00:00<00:00, 8940.05it/s]\n"
     ]
    }
   ],
   "source": [
    "data_ro = iblr.ro(data=data,y='fieryness_x', rel_thres=1., rel_method='manual',rel_ctrl_pts_rg=rg_mtrx)"
   ]
  },
  {
   "cell_type": "code",
   "execution_count": 107,
   "id": "1f4aa307",
   "metadata": {},
   "outputs": [
    {
     "data": {
      "text/plain": [
       "<AxesSubplot:xlabel='fieryness_x', ylabel='Density'>"
      ]
     },
     "execution_count": 107,
     "metadata": {},
     "output_type": "execute_result"
    },
    {
     "data": {
      "image/png": "[encoded data removed]",
      "text/plain": [
       "<Figure size 432x288 with 1 Axes>"
      ]
     },
     "metadata": {
      "needs_background": "light"
     },
     "output_type": "display_data"
    }
   ],
   "source": [
    "data_ro = data_ro.reset_index()\n",
    "sns.kdeplot(data['fieryness_x'], label='original')\n",
    "sns.kdeplot(data_ro['fieryness_x'], label='modified')"
   ]
  },
  {
   "cell_type": "code",
   "execution_count": 97,
   "id": "b0dda827",
   "metadata": {},
   "outputs": [
    {
     "name": "stderr",
     "output_type": "stream",
     "text": [
      "synth_matrix: 100%|##########################################################################| 1007/1007 [00:07<00:00, 142.96it/s]\n",
      "r_index: 100%|#####################################################################################| 5/5 [00:00<00:00, 558.27it/s]\n"
     ]
    }
   ],
   "source": [
    "data_gn = iblr.gn(data=data,y='fieryness_x', rel_thres=0.5, rel_method='manual',rel_ctrl_pts_rg=rg_mtrx)"
   ]
  },
  {
   "cell_type": "code",
   "execution_count": 98,
   "id": "5d899113",
   "metadata": {},
   "outputs": [
    {
     "data": {
      "text/plain": [
       "<AxesSubplot:xlabel='fieryness_x', ylabel='Density'>"
      ]
     },
     "execution_count": 98,
     "metadata": {},
     "output_type": "execute_result"
    },
    {
     "data": {
      "image/png": "[encoded data removed]",
      "text/plain": [
       "<Figure size 432x288 with 1 Axes>"
      ]
     },
     "metadata": {
      "needs_background": "light"
     },
     "output_type": "display_data"
    }
   ],
   "source": [
    "data_gn = data_gn.reset_index()\n",
    "sns.kdeplot(data['fieryness_x'], label='original')\n",
    "sns.kdeplot(data_gn['fieryness_x'], label='modified')"
   ]
  },
  {
   "cell_type": "code",
   "execution_count": 99,
   "id": "eed91e3d",
   "metadata": {},
   "outputs": [
    {
     "data": {
      "text/plain": [
       "(14114, 11)"
      ]
     },
     "execution_count": 99,
     "metadata": {},
     "output_type": "execute_result"
    }
   ],
   "source": [
    "data_ro.shape"
   ]
  },
  {
   "cell_type": "code",
   "execution_count": 100,
   "id": "de0c9658",
   "metadata": {},
   "outputs": [
    {
     "data": {
      "text/plain": [
       "(10080, 11)"
      ]
     },
     "execution_count": 100,
     "metadata": {},
     "output_type": "execute_result"
    }
   ],
   "source": [
    "data_gn.shape"
   ]
  },
  {
   "cell_type": "code",
   "execution_count": 101,
   "id": "88fb955b",
   "metadata": {},
   "outputs": [
    {
     "data": {
      "text/plain": [
       "(9074, 11)"
      ]
     },
     "execution_count": 101,
     "metadata": {},
     "output_type": "execute_result"
    }
   ],
   "source": [
    "data_smogn.shape"
   ]
  },
  {
   "cell_type": "code",
   "execution_count": 102,
   "id": "d6288fa8",
   "metadata": {},
   "outputs": [
    {
     "name": "stderr",
     "output_type": "stream",
     "text": [
      "dist_matrix: 100%|############################################################################| 1007/1007 [02:10<00:00,  7.73it/s]\n",
      "synth_matrix: 100%|##########################################################################| 1007/1007 [00:02<00:00, 414.76it/s]\n",
      "r_index: 100%|####################################################################################| 5/5 [00:00<00:00, 1600.51it/s]\n"
     ]
    }
   ],
   "source": [
    "data_smote = iblr.smote(data=data,y='fieryness_x', rel_thres=0.5, rel_method='manual',rel_ctrl_pts_rg=rg_mtrx)"
   ]
  },
  {
   "cell_type": "code",
   "execution_count": 103,
   "id": "61e787fc",
   "metadata": {},
   "outputs": [
    {
     "data": {
      "text/plain": [
       "<AxesSubplot:xlabel='fieryness_x', ylabel='Density'>"
      ]
     },
     "execution_count": 103,
     "metadata": {},
     "output_type": "execute_result"
    },
    {
     "data": {
      "image/png": "[encoded data removed]",
      "text/plain": [
       "<Figure size 432x288 with 1 Axes>"
      ]
     },
     "metadata": {
      "needs_background": "light"
     },
     "output_type": "display_data"
    }
   ],
   "source": [
    "data_smote = data_smote.reset_index()\n",
    "sns.kdeplot(data['fieryness_x'], label='original')\n",
    "sns.kdeplot(data_smote['fieryness_x'], label='modified')"
   ]
  },
  {
   "cell_type": "code",
   "execution_count": null,
   "id": "c3cd2303",
   "metadata": {},
   "outputs": [],
   "source": []
  }
 ],
 "metadata": {
  "kernelspec": {
   "display_name": "Python 3 (ipykernel)",
   "language": "python",
   "name": "python3"
  },
  "language_info": {
   "codemirror_mode": {
    "name": "ipython",
    "version": 3
   },
   "file_extension": ".py",
   "mimetype": "text/x-python",
   "name": "python",
   "nbconvert_exporter": "python",
   "pygments_lexer": "ipython3",
   "version": "3.9.7"
  }
 },
 "nbformat": 4,
 "nbformat_minor": 5
}
